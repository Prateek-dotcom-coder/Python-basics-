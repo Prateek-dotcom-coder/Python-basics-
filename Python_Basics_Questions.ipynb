{
  "nbformat": 4,
  "nbformat_minor": 0,
  "metadata": {
    "colab": {
      "provenance": []
    },
    "kernelspec": {
      "name": "python3",
      "display_name": "Python 3"
    },
    "language_info": {
      "name": "python"
    }
  },
  "cells": [
    {
      "cell_type": "markdown",
      "source": [
        "#Python Basics Questions"
      ],
      "metadata": {
        "id": "Zbw4R-5Mp9tr"
      }
    },
    {
      "cell_type": "markdown",
      "source": [
        "1-  What is Python, and why is it popular?\n",
        "\n",
        "   ->Python is a popular programming language because it's easy to learn, versatile, and can run on many different platforms.\n",
        "   Easy to learn\n",
        "   Python has a simple syntax that uses English keywords and indentation instead of parentheses. This makes it easier to read and understand the code.\n",
        "   Versatile\n",
        "   Python can be used for many different tasks, including:\n",
        "   Web development\n",
        "   Data science\n",
        "   Machine learning\n",
        "   Software testing and prototyping\n",
        "   Automation\n",
        "   Everyday tasks, like organizing finances\n",
        "   Internet of Things (IoT) development\n",
        "\n",
        "\n",
        "\n",
        "\n",
        "\n",
        "\n",
        "\n",
        "\n",
        "\n",
        "\n",
        "\n"
      ],
      "metadata": {
        "id": "P-deEpeDJAsg"
      }
    },
    {
      "cell_type": "markdown",
      "source": [
        "2-  What is an interpreter in Python?\n",
        "\n",
        "  ->A Python interpreter is a computer program that translates Python code into machine code so that a computer can understand and execute it."
      ],
      "metadata": {
        "id": "i5EVeTQHJ8t7"
      }
    },
    {
      "cell_type": "markdown",
      "source": [
        "3- What are pre-defined keywords in Python\n",
        "\n",
        "  -> Pre-defined keywords in Python are reserved words that have specific meanings and uses that cannot be changed:\n",
        "\n",
        "  Here is a list of the Python keywords.  Enter any keyword to get more help.\n",
        "\n",
        "False               class               from                or\n",
        "None                continue            global              pass\n",
        "True                def                 if                  raise\n",
        "and                 del                 import              return\n",
        "as                  elif                in                  try\n",
        "assert              else                is                  while\n",
        "async               except              lambda              with\n",
        "await               finally             nonlocal            yield\n",
        "break               for                 not     "
      ],
      "metadata": {
        "id": "c43X4PYUKOHO"
      }
    },
    {
      "cell_type": "code",
      "source": [
        "help(\"keywords\")"
      ],
      "metadata": {
        "colab": {
          "base_uri": "https://localhost:8080/"
        },
        "id": "vLxmQsT2Krh2",
        "outputId": "62b989d0-cae7-41c6-d035-f07a5cbf9089"
      },
      "execution_count": null,
      "outputs": [
        {
          "output_type": "stream",
          "name": "stdout",
          "text": [
            "\n",
            "Here is a list of the Python keywords.  Enter any keyword to get more help.\n",
            "\n",
            "False               class               from                or\n",
            "None                continue            global              pass\n",
            "True                def                 if                  raise\n",
            "and                 del                 import              return\n",
            "as                  elif                in                  try\n",
            "assert              else                is                  while\n",
            "async               except              lambda              with\n",
            "await               finally             nonlocal            yield\n",
            "break               for                 not                 \n",
            "\n"
          ]
        }
      ]
    },
    {
      "cell_type": "markdown",
      "source": [
        "4- Can keywords be used as variable names?\n",
        "\n",
        "   -> No, Python keywords cannot be used as variable names:\n",
        "\n",
        "  What are Python keywords.\n",
        "  Python keywords are reserved words that define the syntax and structure of the Python language. They serve a specific function in Python and cannot be used as variable names, function names, or the value of any other identifier."
      ],
      "metadata": {
        "id": "3I8xZUPHK_y2"
      }
    },
    {
      "cell_type": "markdown",
      "source": [
        "5- What is mutability in Python?\n",
        "\n",
        "  -> In Python, mutability refers to the ability of an object to be changed after it's created. A mutable object's state or value can be modified without creating a new object. Any references to a mutable object will reflect any changes made to it.\n",
        "Please find some examples of mutable objects in Python:\n",
        "\n",
        "  Lists\n",
        "\n",
        "  Lists are mutable, which means you can add, remove, or modify elements without creating a new list. For example, you can use the pop() method to remove an element from the end of a list.\n",
        "\n",
        "  Dictionaries\n",
        "\n",
        "  Dictionaries are mutable built-in data types in Python. You can add key value pairs to a dictionary.\n",
        "\n",
        "How Python handles Mutable & Immutable objects\n",
        "\n",
        "In contrast, strings and tuples are immutable, meaning you can't modify the individual characters in a string or elements in a tuple.\n"
      ],
      "metadata": {
        "id": "PZZEKZPmLeKt"
      }
    },
    {
      "cell_type": "markdown",
      "source": [
        "6-  Why are lists mutable, but tuples are immutable?\n",
        "\n",
        "   -> The main difference between tuples and lists is that tuples are immutable, meaning their contents cannot be changed after creation, while lists are mutable and can be modified. Additionally, tuples are more memory-efficient compared to lists. Tuples can't be changed after they're created, but lists can be modified."
      ],
      "metadata": {
        "id": "N6tEKgEjMQnE"
      }
    },
    {
      "cell_type": "markdown",
      "source": [
        "7- What is the difference between “==” and “is” operators in Python?\n",
        "\n",
        "   ->The main difference between the == and is operators in Python is that == compares the values of two objects, while is checks if the objects are identical:\n",
        "\n",
        "  ==\n",
        "\n",
        "  Also known as the equality operator, == compares the values of two objects. The condition is true if the values are equal.\n",
        "\n",
        "  is\n",
        "\n",
        "  Also known as the identity operator, is checks if two variables point to the same object in memory. The condition is true if the variables point to the same object"
      ],
      "metadata": {
        "id": "JhoqYoTGMocO"
      }
    },
    {
      "cell_type": "markdown",
      "source": [
        "8-  What are logical operators in Python?\n",
        "\n",
        "   ->Logical operators in Python are used to evaluate multiple conditions and determine the truth value of an expression. They are also known as Boolean operators. The three logical operators in Python are.\n",
        "\n",
        "   And,Or,Not.\n"
      ],
      "metadata": {
        "id": "UnEVCd8ZNEAF"
      }
    },
    {
      "cell_type": "markdown",
      "source": [
        "9- What is type casting in Python?\n",
        "\n",
        "  -> Type casting in Python is the process of converting a variable's data type from one type to another. It's also known as type conversion.\n",
        "  There are two types of type casting in Python:\n",
        "\n",
        "  Implicit\n",
        "\n",
        "  Python automatically converts one data type to another without any explicit instruction from the programmer. This often happens when operating with mixed data types. For example, when adding an integer to a float, Python automatically converts the integer to a float.\n",
        "\n",
        "  Explicit\n",
        "\n",
        "  This is when you use predefined Python functions like int(), float(), or str() to convert an object's data type. For example, you can use int() to convert a string or float to an integer.\n"
      ],
      "metadata": {
        "id": "5WnGgxMrNyo2"
      }
    },
    {
      "cell_type": "markdown",
      "source": [
        "10- What is the difference between implicit and explicit type casting?\n",
        "\n",
        "   ->The main difference between implicit and explicit type casting is that implicit type casting is automatic, while explicit type casting is manual:\n",
        "\n",
        "  Implicit type casting.\n",
        "\n",
        "  Automatically converts a value to a different data type based on the context. This is often used to convert smaller data types to larger data types to ensure compatibility and prevent data loss.\n",
        "\n",
        "  Explicit type casting.\n",
        "\n",
        "  Requires the programmer to explicitly define the type conversion. This approach provides more control over the data conversion process and allows for precise management of data types.\n",
        "\n",
        "  The appropriateness or benefit of either use depends on the programming language, whether the language is statically typed or dynamically typed, and whether things can be inferred from a run time or during compilation.\n"
      ],
      "metadata": {
        "id": "JnPFt0ASOcyn"
      }
    },
    {
      "cell_type": "markdown",
      "source": [
        "11- What is the purpose of conditional statements in Python?\n",
        "\n",
        "  -> The purpose of conditional statements in Python is to control the flow of a program by making decisions based on certain conditions:\n",
        "\n",
        "  How they work.\n",
        "\n",
        "  Conditional statements check the value of a condition and execute a block of code if the condition is true. If the condition is false, the code is not executed.\n",
        "\n",
        "  Benefits,\n",
        "\n",
        "  Conditional statements can make code more efficient and easier to read. For example, you can use a conditional statement to print a message only if a certain condition is met.\n",
        "\n",
        "  Types.\n",
        "\n",
        "  Python offers different types of conditional statements, including if, if-else, elif, and nested if statements.\n",
        "\n",
        "  Operators.\n",
        "\n",
        "  You can use operators like equals (==), not equals (!=), greater than (>), less than (<), and greater than or equal to (>=) with conditional statements"
      ],
      "metadata": {
        "id": "6yEAvdhvPPjB"
      }
    },
    {
      "cell_type": "markdown",
      "source": [
        "12-  How does the elif statement work?\n",
        "\n",
        "  -> In Python, elif is short for \"else if\" and is used when the first if statement isn't true, but you want to check for another condition. Meaning, if statements pair up with elif and else statements to perform a series of checks."
      ],
      "metadata": {
        "id": "R3zCKdWIP7ZV"
      }
    },
    {
      "cell_type": "markdown",
      "source": [
        "13- What is the difference between for and while loops?\n",
        "\n",
        "   -> The main difference between a for loop and a while loop is that a for loop is used when the number of iterations is known, while a while loop is used when the number of iterations is unknown:\n",
        "\n",
        "  For loop.\n",
        "\n",
        "  Used when the number of times a block of code needs to be executed is known. For example, to check the grade of every student in a class, you can loop from 1 to the number of students. For loops are followed by initialization, expression, and increment statements.\n",
        "\n",
        "  While loop.\n",
        "\n",
        "  Used when the number of times a block of code needs to be executed is unknown. For example, to ask a user for a number between 1 and 10, you can use a while loop to keep asking until the user enters a number between 1 and 10. While loops execute a block of code as long as a specified condition is true. It's important to make sure that the condition eventually becomes false, otherwise the loop will run indefinitely.\n"
      ],
      "metadata": {
        "id": "UmxIC_XjQ8Ao"
      }
    },
    {
      "cell_type": "markdown",
      "source": [
        "14- Describe a scenario where a while loop is more suitable than a for loop?\n",
        "\n",
        "   ->A while loop is more suitable than a for loop when the number of iterations is unknown in advance and depends on a condition being satisfied or evaluated during runtime. In contrast, a for loop is ideal when you know the number of iterations ahead of time or are iterating over a sequence like a list.\n",
        "\n",
        "   Scenario: User Input Validation\n",
        "\n",
        "   Consider a situation where you need to repeatedly prompt a user to enter a valid password. The loop should continue until the user provides the correct input. Since you don't know how many attempts the user will need, a while loop is ideal.\n",
        "\n",
        "  Please check the code:"
      ],
      "metadata": {
        "id": "0GTuql6ynn_5"
      }
    },
    {
      "cell_type": "code",
      "source": [
        "correct_password = \"secure123\"\n",
        "user_input = \"\"\n",
        "\n",
        "while user_input != correct_password:\n",
        "    user_input = input(\"Enter the correct password: \")\n",
        "    if user_input != correct_password:\n",
        "        print(\"Incorrect password. Try again.\")\n",
        "\n",
        "print(\"Access granted!\")"
      ],
      "metadata": {
        "colab": {
          "base_uri": "https://localhost:8080/"
        },
        "id": "2CqaMG-co67C",
        "outputId": "2ce04f86-2b69-4fc0-affa-5dc8965a2973"
      },
      "execution_count": null,
      "outputs": [
        {
          "output_type": "stream",
          "name": "stdout",
          "text": [
            "Enter the correct password: secure123\n",
            "Access granted!\n"
          ]
        }
      ]
    },
    {
      "cell_type": "markdown",
      "source": [
        "Why a while loop works best:\n",
        "\n",
        "The condition (user_input != correct_password) controls the loop execution.\n",
        "The number of attempts is not known beforehand and depends on user behavior.\n",
        "A for loop would be less suitable because it is designed for a predefined range or sequence.\n",
        "\n",
        "Summary\n",
        "\n",
        "A while loop excels when the number of iterations cannot be predetermined and you need to repeat actions based on a condition."
      ],
      "metadata": {
        "id": "xAvNE04eptbR"
      }
    },
    {
      "cell_type": "markdown",
      "source": [
        "#Practical Questions"
      ],
      "metadata": {
        "id": "OP3WmIZcp2BQ"
      }
    },
    {
      "cell_type": "markdown",
      "source": [
        " 1- Write a Python program to print \"Hello, World!.\n",
        "\n",
        "   ->We can give a give a command for writing hello word as below."
      ],
      "metadata": {
        "id": "U7E5x8HLqLS8"
      }
    },
    {
      "cell_type": "code",
      "source": [
        "print(\"Hello,World\")"
      ],
      "metadata": {
        "colab": {
          "base_uri": "https://localhost:8080/"
        },
        "id": "awRwyxv6qgbO",
        "outputId": "d64da692-d7b8-4bf6-ef4f-df272ef489dd"
      },
      "execution_count": null,
      "outputs": [
        {
          "output_type": "stream",
          "name": "stdout",
          "text": [
            "Hello,World\n"
          ]
        }
      ]
    },
    {
      "cell_type": "markdown",
      "source": [
        "2-  Write a Python program that displays your name and age.\n",
        "\n",
        "  -> We can give a give a command for writing Name and Age."
      ],
      "metadata": {
        "id": "mu1CCfvsqsaj"
      }
    },
    {
      "cell_type": "code",
      "source": [
        "age = input(\"Enter age: \")\n",
        "name = input(\"Enter name: \")\n",
        "print(\"Hi, my name is \" + name + \", and I am \" + age + \" years old.\")"
      ],
      "metadata": {
        "colab": {
          "base_uri": "https://localhost:8080/"
        },
        "id": "tWuI2fI9rB5S",
        "outputId": "3965a8e9-f96c-46ca-ee8a-2b0eb13fc2b6"
      },
      "execution_count": null,
      "outputs": [
        {
          "output_type": "stream",
          "name": "stdout",
          "text": [
            "Enter age: 25\n",
            "Enter name: Prateek\n",
            "Hi, my name is Prateek, and I am 25 years old.\n"
          ]
        }
      ]
    },
    {
      "cell_type": "markdown",
      "source": [
        "3-Write code to print all the pre-defined keywords in Python using the      keyword library.\n",
        "\n",
        " ->We can give a give a command for pre-defined keywords as below."
      ],
      "metadata": {
        "id": "SRotCCfCrT4r"
      }
    },
    {
      "cell_type": "code",
      "source": [
        "help(\"keywords\")"
      ],
      "metadata": {
        "colab": {
          "base_uri": "https://localhost:8080/"
        },
        "id": "SPScvrTKrwHZ",
        "outputId": "8010feea-6d54-4edf-ea06-e035403e9087"
      },
      "execution_count": null,
      "outputs": [
        {
          "output_type": "stream",
          "name": "stdout",
          "text": [
            "\n",
            "Here is a list of the Python keywords.  Enter any keyword to get more help.\n",
            "\n",
            "False               class               from                or\n",
            "None                continue            global              pass\n",
            "True                def                 if                  raise\n",
            "and                 del                 import              return\n",
            "as                  elif                in                  try\n",
            "assert              else                is                  while\n",
            "async               except              lambda              with\n",
            "await               finally             nonlocal            yield\n",
            "break               for                 not                 \n",
            "\n"
          ]
        }
      ]
    },
    {
      "cell_type": "markdown",
      "source": [
        "4- Write a program that checks if a given word is a Python keyword.\n",
        "\n",
        "  -> We can findout the keyword by Using built-in iskeyword() function:"
      ],
      "metadata": {
        "id": "lrsM5kg7r4wr"
      }
    },
    {
      "cell_type": "code",
      "source": [
        "import keyword\n",
        "\n",
        "def is_python_keyword(word):\n",
        "    \"\"\"Check if a given word is a Python keyword.\"\"\"\n",
        "    if keyword.iskeyword(word):\n",
        "        print(f\"'{word}' is a Python keyword.\")\n",
        "    else:\n",
        "        print(f\"'{word}' is NOT a Python keyword.\")\n",
        "\n",
        "# Input from the user\n",
        "word = input(\"Enter a word to check if it's a Python keyword: \").strip()\n",
        "is_python_keyword(word)"
      ],
      "metadata": {
        "colab": {
          "base_uri": "https://localhost:8080/"
        },
        "id": "24rPEu3PsV_G",
        "outputId": "5e930d76-11bb-4f4a-dd42-72f5ca9b5ebf"
      },
      "execution_count": null,
      "outputs": [
        {
          "output_type": "stream",
          "name": "stdout",
          "text": [
            "Enter a word to check if it's a Python keyword: Hello\n",
            "'Hello' is NOT a Python keyword.\n"
          ]
        }
      ]
    },
    {
      "cell_type": "code",
      "source": [
        "import keyword\n",
        "\n",
        "def is_python_keyword(word):\n",
        "    \"\"\"Check if a given word is a Python keyword.\"\"\"\n",
        "    if keyword.iskeyword(word):\n",
        "        print(f\"'{word}' is a Python keyword.\")\n",
        "    else:\n",
        "        print(f\"'{word}' is NOT a Python keyword.\")\n",
        "\n",
        "# Input from the user\n",
        "word = input(\"Enter a word to check if it's a Python keyword: \").strip()\n",
        "is_python_keyword(word)"
      ],
      "metadata": {
        "colab": {
          "base_uri": "https://localhost:8080/"
        },
        "id": "_pjcWkINuhVk",
        "outputId": "3de089fd-0ff7-42d6-b351-a584ecda6540"
      },
      "execution_count": null,
      "outputs": [
        {
          "output_type": "stream",
          "name": "stdout",
          "text": [
            "Enter a word to check if it's a Python keyword: if\n",
            "'if' is a Python keyword.\n"
          ]
        }
      ]
    },
    {
      "cell_type": "markdown",
      "source": [
        "5- Create a list and tuple in Python, and demonstrate how attempting to change an element works differently\n",
        "for each.\n",
        "\n",
        "   ->We can give a give a command as below.\n",
        "   Here's an example demonstrating the difference between a list and a tuple in Python when attempting to modify their elements:"
      ],
      "metadata": {
        "id": "tYscTSD9uuEq"
      }
    },
    {
      "cell_type": "code",
      "source": [
        "# Create a list\n",
        "my_list = [1, 2, 3]\n",
        "print(\"Original list:\", my_list)\n",
        "\n",
        "# Modify an element in the list\n",
        "my_list[0] = 10\n",
        "print(\"Modified list:\", my_list)\n",
        "\n",
        "# Create a tuple\n",
        "my_tuple = (1, 2, 3)\n",
        "print(\"\\nOriginal tuple:\", my_tuple)\n",
        "\n",
        "# Attempt to modify an element in the tuple\n",
        "try:\n",
        "    my_tuple[0] = 10\n",
        "except TypeError as e:\n",
        "    print(\"Error when modifying tuple:\", e)"
      ],
      "metadata": {
        "colab": {
          "base_uri": "https://localhost:8080/"
        },
        "id": "lvkmO54pdZjn",
        "outputId": "80cbc03a-f72d-408d-ac4f-645581d62c10"
      },
      "execution_count": null,
      "outputs": [
        {
          "output_type": "stream",
          "name": "stdout",
          "text": [
            "Original list: [1, 2, 3]\n",
            "Modified list: [10, 2, 3]\n",
            "\n",
            "Original tuple: (1, 2, 3)\n",
            "Error when modifying tuple: 'tuple' object does not support item assignment\n"
          ]
        }
      ]
    },
    {
      "cell_type": "markdown",
      "source": [
        "6-  Write a function to demonstrate the behavior of mutable and immutable arguments.\n",
        "\n",
        "  -> Here's a Python function that demonstrates the behavior of mutable (like lists or dictionaries) and immutable (like integers or strings) arguments when passed to functions:"
      ],
      "metadata": {
        "id": "IyeJjeSudhXU"
      }
    },
    {
      "cell_type": "code",
      "source": [
        "def demonstrate_mutable_immutable():\n",
        "    # Immutable example\n",
        "    def modify_immutable(x):\n",
        "        print(\"Before modification (immutable):\", x)\n",
        "        x = x + 1\n",
        "        print(\"After modification (immutable):\", x)\n",
        "\n",
        "    # Mutable example\n",
        "    def modify_mutable(lst):\n",
        "        print(\"Before modification (mutable):\", lst)\n",
        "        lst.append(4)\n",
        "        print(\"After modification (mutable):\", lst)\n",
        "\n",
        "    # Test immutable argument\n",
        "    num = 10\n",
        "    print(\"\\nImmutable argument demonstration:\")\n",
        "    print(\"Original value (num):\", num)\n",
        "    modify_immutable(num)\n",
        "    print(\"After function call (num):\", num)  # Original value is unchanged\n",
        "\n",
        "    # Test mutable argument\n",
        "    my_list = [1, 2, 3]\n",
        "    print(\"\\nMutable argument demonstration:\")\n",
        "    print(\"Original value (my_list):\", my_list)\n",
        "    modify_mutable(my_list)\n",
        "    print(\"After function call (my_list):\", my_list)  # Original list is modified\n",
        "\n",
        "# Run the demonstration\n",
        "demonstrate_mutable_immutable()"
      ],
      "metadata": {
        "colab": {
          "base_uri": "https://localhost:8080/"
        },
        "id": "uZWRzavFeVXm",
        "outputId": "8171139f-4693-4d33-be8c-2e34d71a557f"
      },
      "execution_count": null,
      "outputs": [
        {
          "output_type": "stream",
          "name": "stdout",
          "text": [
            "\n",
            "Immutable argument demonstration:\n",
            "Original value (num): 10\n",
            "Before modification (immutable): 10\n",
            "After modification (immutable): 11\n",
            "After function call (num): 10\n",
            "\n",
            "Mutable argument demonstration:\n",
            "Original value (my_list): [1, 2, 3]\n",
            "Before modification (mutable): [1, 2, 3]\n",
            "After modification (mutable): [1, 2, 3, 4]\n",
            "After function call (my_list): [1, 2, 3, 4]\n"
          ]
        }
      ]
    },
    {
      "cell_type": "markdown",
      "source": [
        "7-  Write a function to demonstrate the behavior of mutable and immutable arguments.\n",
        "\n",
        "  -> Here's a Python function that demonstrates the behavior of mutable (like lists or dictionaries) and immutable (like integers or strings) arguments when passed to functions:"
      ],
      "metadata": {
        "id": "_tzZrR-RflmD"
      }
    },
    {
      "cell_type": "code",
      "source": [
        "def demonstrate_mutable_immutable():\n",
        "    # Immutable example\n",
        "    def modify_immutable(x):\n",
        "        print(\"Before modification (immutable):\", x)\n",
        "        x = x + 1\n",
        "        print(\"After modification (immutable):\", x)\n",
        "\n",
        "    # Mutable example\n",
        "    def modify_mutable(lst):\n",
        "        print(\"Before modification (mutable):\", lst)\n",
        "        lst.append(4)\n",
        "        print(\"After modification (mutable):\", lst)\n",
        "\n",
        "    # Test immutable argument\n",
        "    num = 10\n",
        "    print(\"\\nImmutable argument demonstration:\")\n",
        "    print(\"Original value (num):\", num)\n",
        "    modify_immutable(num)\n",
        "    print(\"After function call (num):\", num)  # Original value is unchanged\n",
        "\n",
        "    # Test mutable argument\n",
        "    my_list = [1, 2, 3]\n",
        "    print(\"\\nMutable argument demonstration:\")\n",
        "    print(\"Original value (my_list):\", my_list)\n",
        "    modify_mutable(my_list)\n",
        "    print(\"After function call (my_list):\", my_list)  # Original list is modified\n",
        "\n",
        "# Run the demonstration\n",
        "demonstrate_mutable_immutable()"
      ],
      "metadata": {
        "colab": {
          "base_uri": "https://localhost:8080/"
        },
        "id": "_H8J7H_NgF8j",
        "outputId": "b931c1ec-965d-4031-f485-4de7539743c5"
      },
      "execution_count": null,
      "outputs": [
        {
          "output_type": "stream",
          "name": "stdout",
          "text": [
            "\n",
            "Immutable argument demonstration:\n",
            "Original value (num): 10\n",
            "Before modification (immutable): 10\n",
            "After modification (immutable): 11\n",
            "After function call (num): 10\n",
            "\n",
            "Mutable argument demonstration:\n",
            "Original value (my_list): [1, 2, 3]\n",
            "Before modification (mutable): [1, 2, 3]\n",
            "After modification (mutable): [1, 2, 3, 4]\n",
            "After function call (my_list): [1, 2, 3, 4]\n"
          ]
        }
      ]
    },
    {
      "cell_type": "markdown",
      "source": [
        "8-  Write a program to demonstrate the use of logical operators.\n",
        "\n",
        "  -> Below is a Python program that demonstrates the use of logical operators (and, or, and not). It takes inputs from the user and evaluates various conditions using logical operators."
      ],
      "metadata": {
        "id": "tn6ezUtHgXga"
      }
    },
    {
      "cell_type": "code",
      "source": [
        "# Program to demonstrate the use of logical operators\n",
        "\n",
        "# Taking input from the user\n",
        "a = int(input(\"Enter the first number (a): \"))\n",
        "b = int(input(\"Enter the second number (b): \"))\n",
        "\n",
        "# Demonstrating 'and' operator\n",
        "print(\"\\nDemonstrating the 'and' operator:\")\n",
        "if a > 0 and b > 0:\n",
        "    print(\"Both a and b are positive numbers.\")\n",
        "else:\n",
        "    print(\"At least one of the numbers is not positive.\")\n",
        "\n",
        "# Demonstrating 'or' operator\n",
        "print(\"\\nDemonstrating the 'or' operator:\")\n",
        "if a % 2 == 0 or b % 2 == 0:\n",
        "    print(\"At least one of the numbers is even.\")\n",
        "else:\n",
        "    print(\"Both numbers are odd.\")\n",
        "\n",
        "# Demonstrating 'not' operator\n",
        "print(\"\\nDemonstrating the 'not' operator:\")\n",
        "is_a_negative = a < 0\n",
        "if not is_a_negative:\n",
        "    print(\"a is not a negative number.\")\n",
        "else:\n",
        "    print(\"a is a negative number.\")\n",
        "\n",
        "# Combining logical operators\n",
        "print(\"\\nCombining logical operators:\")\n",
        "if (a > 10 or b > 10) and not (a < 0 or b < 0):\n",
        "    print(\"At least one number is greater than 10, and none of them are negative.\")\n",
        "else:\n",
        "    print(\"Condition not satisfied.\")"
      ],
      "metadata": {
        "colab": {
          "base_uri": "https://localhost:8080/"
        },
        "id": "6RtCr3Xmg-oX",
        "outputId": "7bff2703-5306-4677-dae9-c58809f01f93"
      },
      "execution_count": null,
      "outputs": [
        {
          "output_type": "stream",
          "name": "stdout",
          "text": [
            "Enter the first number (a): 10\n",
            "Enter the second number (b): 10\n",
            "\n",
            "Demonstrating the 'and' operator:\n",
            "Both a and b are positive numbers.\n",
            "\n",
            "Demonstrating the 'or' operator:\n",
            "At least one of the numbers is even.\n",
            "\n",
            "Demonstrating the 'not' operator:\n",
            "a is not a negative number.\n",
            "\n",
            "Combining logical operators:\n",
            "Condition not satisfied.\n"
          ]
        }
      ]
    },
    {
      "cell_type": "markdown",
      "source": [
        "9- Write a Python program to convert user input from string to integer, float, and boolean types.\n",
        "\n",
        "   ->Here is a Python program that takes user input and converts it into integer, float, and boolean types. It also includes exception handling to manage invalid conversions."
      ],
      "metadata": {
        "id": "C9bZDEClhyaa"
      }
    },
    {
      "cell_type": "code",
      "source": [
        "def main():\n",
        "    # Get user input as a string\n",
        "    user_input = input(\"Enter a value: \")\n",
        "\n",
        "    # Convert to integer\n",
        "    try:\n",
        "        int_value = int(user_input)\n",
        "        print(f\"Converted to Integer: {int_value}\")\n",
        "    except ValueError:\n",
        "        print(\"Cannot convert to Integer.\")\n",
        "\n",
        "    # Convert to float\n",
        "    try:\n",
        "        float_value = float(user_input)\n",
        "        print(f\"Converted to Float: {float_value}\")\n",
        "    except ValueError:\n",
        "        print(\"Cannot convert to Float.\")\n",
        "\n",
        "    # Convert to boolean\n",
        "    # Non-empty strings are True; empty strings are False\n",
        "    bool_value = bool(user_input.strip())\n",
        "    print(f\"Converted to Boolean: {bool_value}\")\n",
        "\n",
        "#Corrected the _name_  to __name__ to define the main block\n",
        "if __name__ == \"__main__\":\n",
        "    main()"
      ],
      "metadata": {
        "colab": {
          "base_uri": "https://localhost:8080/"
        },
        "id": "hzAZib_6jtxm",
        "outputId": "f52ed329-b7e5-4e53-af36-553b7f698ffd"
      },
      "execution_count": null,
      "outputs": [
        {
          "output_type": "stream",
          "name": "stdout",
          "text": [
            "Enter a value: Hello\n",
            "Cannot convert to Integer.\n",
            "Cannot convert to Float.\n",
            "Converted to Boolean: True\n"
          ]
        }
      ]
    },
    {
      "cell_type": "markdown",
      "source": [
        "10 - Write code to demonstrate type casting with list elements.\n",
        "\n",
        "   ->Here’s an example in Python that demonstrates type casting with list elements. The code includes a list of mixed types (strings, integers, and floats) and showcases converting all elements to a specific type."
      ],
      "metadata": {
        "id": "Pg73TbYLkGbt"
      }
    },
    {
      "cell_type": "code",
      "source": [
        "# Demonstrating type casting of list elements\n",
        "\n",
        "# Original list with mixed types as strings\n",
        "original_list = ['1', '2', '3.5', '4.8', '5']\n",
        "\n",
        "print(\"Original List (strings):\", original_list)\n",
        "\n",
        "# Type casting to integers (if possible)\n",
        "try:\n",
        "    int_list = [int(float(i)) for i in original_list]\n",
        "    print(\"List after casting to integers:\", int_list)\n",
        "except ValueError as e:\n",
        "    print(\"Error converting to integers:\", e)\n",
        "\n",
        "# Type casting to floats\n",
        "float_list = [float(i) for i in original_list]\n",
        "print(\"List after casting to floats:\", float_list)\n",
        "\n",
        "# Type casting to strings (demonstration for completeness)\n",
        "str_list = [str(i) for i in float_list]\n",
        "print(\"List after casting back to strings:\", str_list)\n",
        "\n",
        "# Example to handle casting safely\n",
        "mixed_list = ['10', '20.5', 'text', '30']\n",
        "print(\"\\nMixed List:\", mixed_list)\n",
        "\n",
        "# Safely converting elements to floats, ignoring invalid entries\n",
        "safe_float_list = []\n",
        "for item in mixed_list:\n",
        "    try:\n",
        "        safe_float_list.append(float(item))\n",
        "    except ValueError:\n",
        "        print(f\"Cannot convert '{item}' to float. Skipping.\")\n",
        "print(\"Safely converted list to floats:\", safe_float_list)"
      ],
      "metadata": {
        "colab": {
          "base_uri": "https://localhost:8080/"
        },
        "id": "edgd1-HQkzeZ",
        "outputId": "8bcfe8a6-a254-4ccb-957b-b77690c9e991"
      },
      "execution_count": null,
      "outputs": [
        {
          "output_type": "stream",
          "name": "stdout",
          "text": [
            "Original List (strings): ['1', '2', '3.5', '4.8', '5']\n",
            "List after casting to integers: [1, 2, 3, 4, 5]\n",
            "List after casting to floats: [1.0, 2.0, 3.5, 4.8, 5.0]\n",
            "List after casting back to strings: ['1.0', '2.0', '3.5', '4.8', '5.0']\n",
            "\n",
            "Mixed List: ['10', '20.5', 'text', '30']\n",
            "Cannot convert 'text' to float. Skipping.\n",
            "Safely converted list to floats: [10.0, 20.5, 30.0]\n"
          ]
        }
      ]
    },
    {
      "cell_type": "markdown",
      "source": [
        "11- Write a program that checks if a number is positive, negative, or zero.\n",
        "\n",
        "   ->Here's a simple Python program that checks if a number is positive, negative, or zero:"
      ],
      "metadata": {
        "id": "esQEi1qElOUG"
      }
    },
    {
      "cell_type": "code",
      "source": [
        "# Program to check if a number is positive, negative, or zero\n",
        "\n",
        "# Input from the user\n",
        "number = float(input(\"Enter a number: \"))\n",
        "\n",
        "# Check conditions\n",
        "if number > 0:\n",
        "    print(\"The number is positive.\")\n",
        "elif number < 0:\n",
        "    print(\"The number is negative.\")\n",
        "else:\n",
        "    print(\"The number is zero.\")"
      ],
      "metadata": {
        "colab": {
          "base_uri": "https://localhost:8080/"
        },
        "id": "dOplDOqemNiU",
        "outputId": "550fe87e-4f5b-44a6-8002-2094888672ff"
      },
      "execution_count": null,
      "outputs": [
        {
          "output_type": "stream",
          "name": "stdout",
          "text": [
            "Enter a number: 5\n",
            "The number is positive.\n"
          ]
        }
      ]
    },
    {
      "cell_type": "markdown",
      "source": [
        "12- Write a for loop to print numbers from 1 to 10.\n",
        "\n",
        "  ->Here is a simple for loop in Python to print numbers from 1 to 10"
      ],
      "metadata": {
        "id": "Yyf5xKjNnFIV"
      }
    },
    {
      "cell_type": "code",
      "source": [
        "for i in range(1, 11):\n",
        "    print(i)"
      ],
      "metadata": {
        "colab": {
          "base_uri": "https://localhost:8080/"
        },
        "id": "rRjomEYwn8mM",
        "outputId": "2b85b3a7-cab0-4055-ee9d-4ac95661556d"
      },
      "execution_count": null,
      "outputs": [
        {
          "output_type": "stream",
          "name": "stdout",
          "text": [
            "1\n",
            "2\n",
            "3\n",
            "4\n",
            "5\n",
            "6\n",
            "7\n",
            "8\n",
            "9\n",
            "10\n"
          ]
        }
      ]
    },
    {
      "cell_type": "markdown",
      "source": [
        "13- Write a Python program to find the sum of all even numbers between 1 and 50.\n",
        "\n",
        "   ->Here is a Python program to calculate the sum of all even numbers between 1 and 50:"
      ],
      "metadata": {
        "id": "qTSvsfuahhD7"
      }
    },
    {
      "cell_type": "code",
      "source": [
        "# Initialize a variable to store the sum\n",
        "sum_of_evens = 0\n",
        "\n",
        "# Loop through numbers from 1 to 50\n",
        "for number in range(1, 51):\n",
        "    # Check if the number is even\n",
        "    if number % 2 == 0:\n",
        "        # Add the even number to the sum\n",
        "        sum_of_evens += number\n",
        "\n",
        "# Print the result\n",
        "print(\"The sum of all even numbers between 1 and 50 is:\", sum_of_evens)"
      ],
      "metadata": {
        "colab": {
          "base_uri": "https://localhost:8080/"
        },
        "id": "Mn5OCS8Lhyki",
        "outputId": "d71d5e4c-b254-40e0-fc99-15b944e436d2"
      },
      "execution_count": 1,
      "outputs": [
        {
          "output_type": "stream",
          "name": "stdout",
          "text": [
            "The sum of all even numbers between 1 and 50 is: 650\n"
          ]
        }
      ]
    },
    {
      "cell_type": "markdown",
      "source": [
        "14 -  Write a program to reverse a string using a while loop.\n",
        "\n",
        "   -> Here’s a Python program to reverse a string using a while loop:"
      ],
      "metadata": {
        "id": "B22YUcmRiMU5"
      }
    },
    {
      "cell_type": "code",
      "source": [
        "def reverse_string(input_string):\n",
        "    # Initialize variables\n",
        "    reversed_string = \"\"\n",
        "    index = len(input_string) - 1  # Start from the last character\n",
        "\n",
        "    # Use a while loop to iterate through the string in reverse order\n",
        "    while index >= 0:\n",
        "        reversed_string += input_string[index]  # Append the character to the result\n",
        "        index -= 1  # Move to the previous character\n",
        "\n",
        "    return reversed_string\n",
        "\n",
        "# Example usage\n",
        "input_string = input(\"Enter a string to reverse: \")\n",
        "print(\"Reversed string:\", reverse_string(input_string))"
      ],
      "metadata": {
        "colab": {
          "base_uri": "https://localhost:8080/"
        },
        "id": "USY5j8RpjEwX",
        "outputId": "c33dd2c7-5f09-41b1-8388-9cf5d570b394"
      },
      "execution_count": 3,
      "outputs": [
        {
          "output_type": "stream",
          "name": "stdout",
          "text": [
            "Enter a string to reverse: Hello\n",
            "Reversed string: olleH\n"
          ]
        }
      ]
    },
    {
      "cell_type": "markdown",
      "source": [
        "15- Write a Python program to calculate the factorial of a number provided by the user using a while loop.\n",
        "\n",
        "   -> Here is a Python program to calculate the factorial of a number using a while loop:"
      ],
      "metadata": {
        "id": "miPdu8tmjhIW"
      }
    },
    {
      "cell_type": "code",
      "source": [
        "def factorial_using_while():\n",
        "    # Get input from the user\n",
        "    num = int(input(\"Enter a non-negative integer: \"))\n",
        "\n",
        "    # Ensure the input is non-negative\n",
        "    if num < 0:\n",
        "        print(\"Factorial is not defined for negative numbers.\")\n",
        "        return\n",
        "\n",
        "    # Initialize variables\n",
        "    factorial = 1\n",
        "    current = num\n",
        "\n",
        "    # Calculate factorial using a while loop\n",
        "    while current > 0:\n",
        "        factorial *= current\n",
        "        current -= 1\n",
        "\n",
        "    # Output the result\n",
        "    print(f\"The factorial of {num} is {factorial}\")\n",
        "\n",
        "# Run the program\n",
        "factorial_using_while()"
      ],
      "metadata": {
        "colab": {
          "base_uri": "https://localhost:8080/"
        },
        "id": "ZyzGj-8Mj7xm",
        "outputId": "11889492-5fec-4c3f-d766-b6916eb7aed3"
      },
      "execution_count": 4,
      "outputs": [
        {
          "output_type": "stream",
          "name": "stdout",
          "text": [
            "Enter a non-negative integer: 25\n",
            "The factorial of 25 is 15511210043330985984000000\n"
          ]
        }
      ]
    }
  ]
}